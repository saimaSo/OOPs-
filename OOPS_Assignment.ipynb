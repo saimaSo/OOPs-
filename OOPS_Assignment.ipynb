{
  "nbformat": 4,
  "nbformat_minor": 0,
  "metadata": {
    "colab": {
      "provenance": []
    },
    "kernelspec": {
      "name": "python3",
      "display_name": "Python 3"
    },
    "language_info": {
      "name": "python"
    }
  },
  "cells": [
    {
      "cell_type": "markdown",
      "source": [
        "**Theoretical Questions**"
      ],
      "metadata": {
        "id": "k5L4fuZMy5J2"
      }
    },
    {
      "cell_type": "markdown",
      "source": [
        "Q1. What is Object-Oriented Programming (OOP)?\n",
        "- Object-Oriented Programming (OOP) is a programming paradigm based on the concept of \"objects\", which can contain data and code:\n",
        "\n",
        "-  Data in the form of fields (often called attributes or properties)\n",
        "\n",
        "-  Code in the form of methods (functions associated with the object)"
      ],
      "metadata": {
        "id": "g-mYL8qF0aFI"
      }
    },
    {
      "cell_type": "markdown",
      "source": [
        "Q2. What is a class in OOP?\n",
        "- In Object-Oriented Programming (OOP), a class is a blueprint or template for creating objects.\n",
        "\n",
        "Think of a class like:\n",
        "-  A blueprint for a house (the plan), and\n",
        "\n",
        "-  The objects are the actual houses built from that plan."
      ],
      "metadata": {
        "id": "OkbjOuni0eo5"
      }
    },
    {
      "cell_type": "markdown",
      "source": [
        "Q3. What is an object in OOP?\n",
        "- In Object-Oriented Programming (OOP), an object is an instance of a class."
      ],
      "metadata": {
        "id": "h7RX3U260rK8"
      }
    },
    {
      "cell_type": "markdown",
      "source": [
        "Q4. What is the difference between abstraction and encapsulation?\n",
        "\n",
        "Abstraction - Hiding the complexity\n",
        "Goal: Focus on what an object does, not how it does it.\n",
        "\n",
        "-  It hides internal implementation details and shows only relevant features.\n",
        "\n",
        "-  Helps in reducing programming complexity and increases efficiency."
      ],
      "metadata": {
        "id": "o0jrorab0xdJ"
      }
    },
    {
      "cell_type": "markdown",
      "source": [
        "Q5.What are dunder methods in Python?\n",
        "-  In Python, dunder methods (short for \"double underscore\" methods) are special methods that start and end with double underscores, like __init__, __str__, __len__, etc.\n",
        "\n",
        "-  They're also called magic methods and are used to customize how your objects behave with built-in Python operations."
      ],
      "metadata": {
        "id": "BiGlnpsi1C32"
      }
    },
    {
      "cell_type": "markdown",
      "source": [
        "Q6.  Explain the concept of inheritance in OOP?\n",
        "-  Inheritance is a feature in OOP that allows a new class (called a child or subclass) to inherit properties and behaviors (methods and attributes) from an existing class (called a parent or superclass)."
      ],
      "metadata": {
        "id": "0WiiMFwm1QaQ"
      }
    },
    {
      "cell_type": "markdown",
      "source": [
        "Q7. What is polymorphism in OOP?\n",
        "\n",
        "-   Polymorphism means \"many forms.\"\n",
        "\n",
        "In OOP, it allows objects of different classes to be treated as objects of a common superclass, while still behaving differently depending on their actual class.\n",
        "\n"
      ],
      "metadata": {
        "id": "ZiyhZoP51eoN"
      }
    },
    {
      "cell_type": "markdown",
      "source": [
        "Q8.  How is encapsulation achieved in Python?\n",
        "-  Encapsulation is the practice of bundling data (attributes) and the methods that operate on that data into a single unit (a class), and restricting direct access to some of the object’s components.\n",
        "-  Python doesn’t have strict private variables like some other languages (Java, C++), but it provides conventions and mechanisms to control access:\n",
        "\n",
        "1. Public Members\n",
        "Accessible from anywhere.\n",
        "2. Protected Members (by convention)\n",
        "Prefix with one underscore _. It’s a hint that it should be treated as \"protected\" (use with care outside the class or subclass).\n",
        "3. Private Members\n",
        "Prefix with two underscores __. Python performs name mangling to make it harder to access directly.\n"
      ],
      "metadata": {
        "id": "SR1wvb3O1l-h"
      }
    },
    {
      "cell_type": "markdown",
      "source": [
        "Q9. What is a constructor in Python ?\n",
        "\n",
        "In Python, a constructor is a special method used to initialize objects when a class is instantiated.\n",
        "\n",
        "The Constructor:\n",
        "-  The constructor in Python is named __init__.\n",
        "\n",
        "-  It's automatically called when a new object of a class is created.\n",
        "\n",
        "-  It sets up the object with default or user-defined values."
      ],
      "metadata": {
        "id": "IANpqflt2QeA"
      }
    },
    {
      "cell_type": "markdown",
      "source": [
        "Q10.What are class and static methods in Python?\n",
        "\n",
        "1. Class Method -** @classmethod**\n",
        "\n",
        "-  It belongs to the class, not the instance.\n",
        "\n",
        "-  It has access to the class itself via the cls parameter.\n",
        "\n",
        "-  Used when you want to operate on the class-level data, or create objects in alternative ways.\n",
        "\n",
        "2. Static Method - **@staticmethod**\n",
        "- It belongs to the class, but it does not access the class or instance.\n",
        "\n",
        "- It behaves like a regular function, but is placed inside a class for logical grouping."
      ],
      "metadata": {
        "id": "NnhhhWth2rCg"
      }
    },
    {
      "cell_type": "markdown",
      "source": [
        "Q11. What is method overloading in Python?\n",
        "- Method overloading means defining multiple methods with the same name but different parameters (type, number, or both), so that the method behaves differently depending on how it's called."
      ],
      "metadata": {
        "id": "wcDU9-Qf5MBQ"
      }
    },
    {
      "cell_type": "markdown",
      "source": [
        "Q12.What is method overriding in OOP?\n",
        "-   Method overriding happens when a child (subclass) defines a method with the same name and signature as a method in its parent (superclass) — and replaces the parent's version with its own."
      ],
      "metadata": {
        "id": "_TJs518E5Wae"
      }
    },
    {
      "cell_type": "markdown",
      "source": [
        "Q13. What is a property decorator in Python?\n",
        "-  The @property decorator lets you turn a method into a \"virtual attribute\" — meaning you can access it like an attribute, but it's actually calling a method behind the scenes."
      ],
      "metadata": {
        "id": "KARScxgz5hP0"
      }
    },
    {
      "cell_type": "markdown",
      "source": [
        "Q14.Why is polymorphism important in OOP?\n",
        "-   Polymorphism is important in Object-Oriented Programming (OOP) because it adds flexibility, scalability, and reusability to your code. Here's a breakdown of why it's so valuable:\n",
        "\n",
        " 1. Code Reusability and Maintainability\n",
        "Polymorphism allows you to write code that works on the interface level, not the implementation. That means you can use the same code (like a function or loop) to operate on different types of objects, as long as they share a common parent class or interface.\n",
        "\n",
        "2. Simplifies Code and Improves Readability\n",
        "You don’t have to use lots of if-else or switch statements to check the type of object and decide which method to call. The right method is picked automatically at runtime (called dynamic dispatch).\n",
        "\n",
        "3. Supports Open/Closed Principle (SOLID)\n",
        "Polymorphism lets your system be open for extension (you can add new behavior) but closed for modification (you don’t have to change existing code). This makes your programs more robust and less prone to bugs when they grow.\n",
        "\n",
        "4. Enables Loose Coupling\n",
        "Your code depends on abstractions (like interfaces or base classes) rather than concrete implementations, which makes the system easier to refactor or scale.\n",
        "\n"
      ],
      "metadata": {
        "id": "Len3vam65zDt"
      }
    },
    {
      "cell_type": "markdown",
      "source": [
        "Q15.What is an abstract class in Python?\n",
        "-   An abstract class in Python is a class that cannot be instantiated on its own and is meant to be inherited by other classes. It's like a blueprint that defines what methods a child class must implement, but not how they work."
      ],
      "metadata": {
        "id": "-ekNXmXW6d2g"
      }
    },
    {
      "cell_type": "markdown",
      "source": [
        "Q16.What are the advantages of OOP?\n",
        "\n",
        " Core OOP Advantages\n",
        "-  Modularity: Code is organized into self-contained objects, making it easier to understand and maintain.\n",
        "\n",
        "-  Reusability: Objects and classes can be reused across programs through inheritance or composition.\n",
        "\n",
        "-  Encapsulation: Internal state is hidden, exposing only necessary interfaces, reducing complexity and improving security.\n",
        "\n",
        "-  Polymorphism: One interface, many implementations — allowing for flexible and scalable code.\n",
        "\n",
        "-  Inheritance: Enables hierarchical class structures and reuse of common logic"
      ],
      "metadata": {
        "id": "FLwXgoPp6rbn"
      }
    },
    {
      "cell_type": "markdown",
      "source": [
        "Q17.What is the difference between a class variable and an instance variable?\n",
        "\n",
        "  **Instance Variable**\n",
        "\n",
        "Belongs to: a specific object (instance of a class).\n",
        "\n",
        "Defined in: usually inside a constructor like __init__ in Python or inside methods.\n",
        "\n",
        "Each object has its own copy.\n",
        "\n",
        "Changes to one object don’t affect others.\n",
        "\n",
        "**Class Variable**\n",
        "\n",
        "Belongs to: the class itself, shared across all instances.\n",
        "\n",
        "Defined in: the class body, outside of any method.\n",
        "\n",
        "One copy shared by all objects.\n",
        "\n",
        "Changing it affects all instances unless shadowed."
      ],
      "metadata": {
        "id": "xhmB7T_D7Bac"
      }
    },
    {
      "cell_type": "markdown",
      "source": [
        "Q18.What is multiple inheritance in Python?\n",
        "-  Multiple inheritance in Python means a class can inherit from more than one parent class — combining features and behaviors from all of them."
      ],
      "metadata": {
        "id": "hYPKtMPR7iE2"
      }
    },
    {
      "cell_type": "markdown",
      "source": [
        "Q19.Explain the purpose of ‘’__str__’ and ‘__repr__’ ‘ methods in Python.\n",
        "-  The __str__ and __repr__ methods in Python are special (dunder) methods used to define how objects are represented as strings. They’re super handy for debugging, logging, and user-friendly output.\n",
        "\n",
        "-  __str__: For Readable Output (User-Facing)\n",
        "Purpose: Return a nice, human-readable string version of the object.\n",
        "\n",
        "Used by: print(), str().\n",
        "\n",
        "-  __repr__: For Unambiguous Output (Developer-Facing)\n",
        "Purpose: Return an unambiguous string that ideally can be used to recreate the object.\n",
        "\n",
        "Used by: repr(), and when inspecting objects in a shell or debugger."
      ],
      "metadata": {
        "id": "Qq1lDuNP7pC4"
      }
    },
    {
      "cell_type": "markdown",
      "source": [
        "Q20.What is the significance of the ‘super()’ function in Python ?\n",
        "-  The super() function in Python is significant primarily in the context of object-oriented programming, especially when working with inheritance."
      ],
      "metadata": {
        "id": "YKU_KoNw7-HV"
      }
    },
    {
      "cell_type": "markdown",
      "source": [
        "Q21.What is the significance of the __del__ method in Python?\n",
        "-  The __del__ method in Python is a special (magic) method called a destructor. It's used to define behavior that should happen when an object is about to be destroyed—that is, when it is being garbage collected."
      ],
      "metadata": {
        "id": "ICPzLIO28YsT"
      }
    },
    {
      "cell_type": "markdown",
      "source": [
        "Q22.What is the difference between @staticmethod and @classmethod in Python?\n",
        "\n",
        " - Use @staticmethod when:\n",
        "\n",
        "You don’t need access to class (cls) or instance (self)\n",
        "\n",
        "You're just grouping utility functions with the class\n",
        "\n",
        "-  Use @classmethod when:\n",
        "\n",
        "You need to access or modify the class\n",
        "\n",
        "You're writing alternative constructors or working with class-level data\n",
        "\n",
        "  "
      ],
      "metadata": {
        "id": "2afU3UTd8mxb"
      }
    },
    {
      "cell_type": "markdown",
      "source": [
        "Q23.How does polymorphism work in Python with inheritance ?\n",
        "-   When a subclass overrides a method of its superclass, and you can call that method on an instance of either class—that’s polymorphism in action."
      ],
      "metadata": {
        "id": "sSfGJG8d9Is4"
      }
    },
    {
      "cell_type": "markdown",
      "source": [
        "Q24.What is method chaining in Python OOP ?\n",
        "-  Method chaining in Python OOP is a programming style where you call multiple methods on the same object in a single line, one after another—like a chain."
      ],
      "metadata": {
        "id": "YWrZEE1J9VY-"
      }
    },
    {
      "cell_type": "markdown",
      "source": [
        "Q25. What is the purpose of the __call__ method in Python?\n",
        "\n",
        "-   The __call__ method in Python makes an object behave like a function. When you define __call__ in a class, you can use its instances as if they were functions—callable objects.\n",
        "\n",
        "-  If a class defines a __call__ method, you can \"call\" its instance like this:\n",
        "\n",
        "obj()  # This internally runs obj.__call__()\n"
      ],
      "metadata": {
        "id": "ynOnWHUv9hVq"
      }
    },
    {
      "cell_type": "markdown",
      "source": [
        "**Practical Questions**"
      ],
      "metadata": {
        "id": "PDyH6eM1-BDO"
      }
    },
    {
      "cell_type": "markdown",
      "source": [
        "Q1. Create a parent class Animal with a method speak() that prints a generic message. Create a child class Dog\n",
        "that overrides the speak() method to print \"Bark!\"."
      ],
      "metadata": {
        "id": "LpdfNJb_-K4C"
      }
    },
    {
      "cell_type": "code",
      "source": [
        "class Animal:\n",
        "    def speak(self):\n",
        "        print(\"Generic animal sound\")\n",
        "\n",
        "class Dog(Animal):\n",
        "    def speak(self):\n",
        "        print(\"Bark!\")\n",
        "\n",
        "# Create instances and call the speak() method\n",
        "animal = Animal()\n",
        "animal.speak()  # Output: Generic animal sound\n",
        "\n",
        "dog = Dog()\n",
        "dog.speak()    # Output: Bark!"
      ],
      "metadata": {
        "colab": {
          "base_uri": "https://localhost:8080/"
        },
        "id": "0LYwwp5wD0E_",
        "outputId": "606b596f-700a-4bc5-9905-7416e519329a"
      },
      "execution_count": 1,
      "outputs": [
        {
          "output_type": "stream",
          "name": "stdout",
          "text": [
            "Generic animal sound\n",
            "Bark!\n"
          ]
        }
      ]
    },
    {
      "cell_type": "markdown",
      "source": [
        "Q2. Write a program to create an abstract class Shape with a method area(). Derive classes Circle and Rectangle\n",
        "from it and implement the area() method in both."
      ],
      "metadata": {
        "id": "OMny7rs5BnCV"
      }
    },
    {
      "cell_type": "code",
      "source": [
        "from abc import ABC, abstractmethod\n",
        "import math\n",
        "\n",
        "class Shape(ABC):  # Abstract class\n",
        "    @abstractmethod\n",
        "    def area(self):\n",
        "        pass\n",
        "\n",
        "class Circle(Shape):\n",
        "    def __init__(self, radius):\n",
        "        self.radius = radius\n",
        "\n",
        "    def area(self):\n",
        "        return math.pi * self.radius**2\n",
        "\n",
        "class Rectangle(Shape):\n",
        "    def __init__(self, length, width):\n",
        "        self.length = length\n",
        "        self.width = width\n",
        "\n",
        "    def area(self):\n",
        "        return self.length * self.width\n",
        "\n",
        "# Create instances and calculate areas\n",
        "circle = Circle(5)\n",
        "print(f\"Circle area: {circle.area()}\")\n",
        "\n",
        "rectangle = Rectangle(4, 6)\n",
        "print(f\"Rectangle area: {rectangle.area()}\")"
      ],
      "metadata": {
        "colab": {
          "base_uri": "https://localhost:8080/"
        },
        "id": "esayf0WvEA2z",
        "outputId": "01476261-e342-47c6-a6e0-76639522e59b"
      },
      "execution_count": 2,
      "outputs": [
        {
          "output_type": "stream",
          "name": "stdout",
          "text": [
            "Circle area: 78.53981633974483\n",
            "Rectangle area: 24\n"
          ]
        }
      ]
    },
    {
      "cell_type": "markdown",
      "source": [
        "Q3.  Implement a multi-level inheritance scenario where a class Vehicle has an attribute type. Derive a class Car\n",
        "and further derive a class ElectricCar that adds a battery attribute."
      ],
      "metadata": {
        "id": "qNxGmeeuBn7V"
      }
    },
    {
      "cell_type": "code",
      "source": [
        "class Vehicle:\n",
        "    def __init__(self, type):\n",
        "        self.type = type\n",
        "\n",
        "class Car(Vehicle):\n",
        "    def __init__(self, type, model):\n",
        "        super().__init__(type)  # Initialize the 'type' attribute from Vehicle\n",
        "        self.model = model\n",
        "\n",
        "class ElectricCar(Car):\n",
        "    def __init__(self, type, model, battery):\n",
        "        super().__init__(type, model)  # Initialize 'type' and 'model' from Car\n",
        "        self.battery = battery\n",
        "\n",
        "# Create instances and access attributes\n",
        "vehicle = Vehicle(\"Ground\")\n",
        "car = Car(\"Ground\", \"Sedan\")\n",
        "electric_car = ElectricCar(\"Ground\", \"Tesla Model 3\", \"Lithium-ion\")\n",
        "\n",
        "print(f\"Vehicle type: {vehicle.type}\")\n",
        "print(f\"Car type: {car.type}, model: {car.model}\")\n",
        "print(f\"Electric car type: {electric_car.type}, model: {electric_car.model}, battery: {electric_car.battery}\")"
      ],
      "metadata": {
        "colab": {
          "base_uri": "https://localhost:8080/"
        },
        "id": "nGVrV6NmEMai",
        "outputId": "d8e26c8a-4371-4f1f-f62d-9ab094458ee9"
      },
      "execution_count": 3,
      "outputs": [
        {
          "output_type": "stream",
          "name": "stdout",
          "text": [
            "Vehicle type: Ground\n",
            "Car type: Ground, model: Sedan\n",
            "Electric car type: Ground, model: Tesla Model 3, battery: Lithium-ion\n"
          ]
        }
      ]
    },
    {
      "cell_type": "markdown",
      "source": [
        "Q4. Demonstrate polymorphism by creating a base class Bird with a method fly(). Create two derived classes\n",
        "Sparrow and Penguin that override the fly() method.\n",
        "\n",
        "\n"
      ],
      "metadata": {
        "id": "nOBD9RODB6h-"
      }
    },
    {
      "cell_type": "code",
      "source": [
        "class Bird:\n",
        "    def fly(self):\n",
        "        print(\"Generic bird flying\")\n",
        "\n",
        "class Sparrow(Bird):\n",
        "    def fly(self):\n",
        "        print(\"Sparrow flying with small wings\")\n",
        "\n",
        "class Penguin(Bird):\n",
        "    def fly(self):\n",
        "        print(\"Penguins can't fly, they swim\")\n",
        "\n",
        "# Create instances and call the fly() method\n",
        "bird = Bird()\n",
        "bird.fly()  # Output: Generic bird flying\n",
        "\n",
        "sparrow = Sparrow()\n",
        "sparrow.fly()  # Output: Sparrow flying with small wings\n",
        "\n",
        "penguin = Penguin()\n",
        "penguin.fly()  # Output: Penguins can't fly, they swim"
      ],
      "metadata": {
        "colab": {
          "base_uri": "https://localhost:8080/"
        },
        "id": "ck4f0AR0EWjJ",
        "outputId": "4103fa91-390b-434e-d228-1abbce670889"
      },
      "execution_count": 4,
      "outputs": [
        {
          "output_type": "stream",
          "name": "stdout",
          "text": [
            "Generic bird flying\n",
            "Sparrow flying with small wings\n",
            "Penguins can't fly, they swim\n"
          ]
        }
      ]
    },
    {
      "cell_type": "markdown",
      "source": [
        "Q5. Write a program to demonstrate encapsulation by creating a class BankAccount with private attributes\n",
        "balance and methods to deposit, withdraw, and check balance."
      ],
      "metadata": {
        "id": "aWyxvO_3CCrf"
      }
    },
    {
      "cell_type": "code",
      "source": [
        "class BankAccount:\n",
        "    def __init__(self, initial_balance=0):\n",
        "        self.__balance = initial_balance  # Private attribute\n",
        "\n",
        "    def deposit(self, amount):\n",
        "        if amount > 0:\n",
        "            self.__balance += amount\n",
        "            print(f\"Deposited {amount}. New balance: {self.__balance}\")\n",
        "        else:\n",
        "            print(\"Invalid deposit amount.\")\n",
        "\n",
        "    def withdraw(self, amount):\n",
        "        if 0 < amount <= self.__balance:\n",
        "            self.__balance -= amount\n",
        "            print(f\"Withdrew {amount}. New balance: {self.__balance}\")\n",
        "        else:\n",
        "            print(\"Insufficient funds or invalid withdrawal amount.\")\n",
        "\n",
        "    def check_balance(self):\n",
        "        print(f\"Current balance: {self.__balance}\")\n",
        "\n",
        "# Create an account and perform operations\n",
        "account = BankAccount(1000)\n",
        "account.deposit(500)\n",
        "account.withdraw(200)\n",
        "account.check_balance()"
      ],
      "metadata": {
        "colab": {
          "base_uri": "https://localhost:8080/"
        },
        "id": "2p47lnFhEdCF",
        "outputId": "82dfada4-500c-4462-8a17-3af21e257c88"
      },
      "execution_count": 5,
      "outputs": [
        {
          "output_type": "stream",
          "name": "stdout",
          "text": [
            "Deposited 500. New balance: 1500\n",
            "Withdrew 200. New balance: 1300\n",
            "Current balance: 1300\n"
          ]
        }
      ]
    },
    {
      "cell_type": "markdown",
      "source": [
        "Q6.  Demonstrate runtime polymorphism using a method play() in a base class Instrument. Derive classes Guitar\n",
        "and Piano that implement their own version of play()."
      ],
      "metadata": {
        "id": "6FbaWt4VCH0E"
      }
    },
    {
      "cell_type": "code",
      "source": [
        "class Instrument:\n",
        "    def play(self):\n",
        "        print(\"Playing a generic instrument\")\n",
        "\n",
        "class Guitar(Instrument):\n",
        "    def play(self):\n",
        "        print(\"Strumming the guitar\")\n",
        "\n",
        "class Piano(Instrument):\n",
        "    def play(self):\n",
        "        print(\"Playing the piano keys\")\n",
        "\n",
        "# Create instances of the classes\n",
        "instrument = Instrument()\n",
        "guitar = Guitar()\n",
        "piano = Piano()\n",
        "\n",
        "# Call the play() method on each instance\n",
        "instrument.play()  # Output: Playing a generic instrument\n",
        "guitar.play()      # Output: Strumming the guitar\n",
        "piano.play()       # Output: Playing the piano keys"
      ],
      "metadata": {
        "colab": {
          "base_uri": "https://localhost:8080/"
        },
        "id": "JhfQ4m0SGzm1",
        "outputId": "3fc43790-172e-4e53-d93f-6e73f1e324e2"
      },
      "execution_count": 7,
      "outputs": [
        {
          "output_type": "stream",
          "name": "stdout",
          "text": [
            "Playing a generic instrument\n",
            "Strumming the guitar\n",
            "Playing the piano keys\n"
          ]
        }
      ]
    },
    {
      "cell_type": "markdown",
      "source": [
        "Q7.  Create a class MathOperations with a class method add_numbers() to add two numbers and a static\n",
        "method subtract_numbers() to subtract two numbers."
      ],
      "metadata": {
        "id": "qup_vxiQCNrR"
      }
    },
    {
      "cell_type": "code",
      "source": [
        "class MathOperations:\n",
        "    @classmethod\n",
        "    def add_numbers(cls, num1, num2):\n",
        "        return num1 + num2\n",
        "\n",
        "    @staticmethod\n",
        "    def subtract_numbers(num1, num2):\n",
        "        return num1 - num2\n",
        "\n",
        "# Using the methods\n",
        "result_add = MathOperations.add_numbers(5, 3)\n",
        "result_subtract = MathOperations.subtract_numbers(10, 4)\n",
        "\n",
        "print(f\"Addition result: {result_add}\")\n",
        "print(f\"Subtraction result: {result_subtract}\")"
      ],
      "metadata": {
        "colab": {
          "base_uri": "https://localhost:8080/"
        },
        "id": "-3QxPDZyEu56",
        "outputId": "ea8b9ae2-25c7-4e5b-bca5-fdc4c7a06c82"
      },
      "execution_count": 8,
      "outputs": [
        {
          "output_type": "stream",
          "name": "stdout",
          "text": [
            "Addition result: 8\n",
            "Subtraction result: 6\n"
          ]
        }
      ]
    },
    {
      "cell_type": "markdown",
      "source": [
        "Q8. Implement a class Person with a class method to count the total number of persons created."
      ],
      "metadata": {
        "id": "HiNc8vd4CSPp"
      }
    },
    {
      "cell_type": "code",
      "source": [
        "class Person:\n",
        "    count = 0  # Class variable to track the count\n",
        "\n",
        "    def __init__(self, name):\n",
        "        self.name = name\n",
        "        Person.count += 1  # Increment count when a new Person is created\n",
        "\n",
        "    @classmethod\n",
        "    def get_person_count(cls):\n",
        "        return cls.count\n",
        "\n",
        "# Create some Person objects\n",
        "person1 = Person(\"Alice\")\n",
        "person2 = Person(\"Bob\")\n",
        "person3 = Person(\"Charlie\")\n",
        "\n",
        "# Get the total person count\n",
        "total_persons = Person.get_person_count()\n",
        "print(f\"Total persons created: {total_persons}\")"
      ],
      "metadata": {
        "colab": {
          "base_uri": "https://localhost:8080/"
        },
        "id": "RFz5kATbE1CV",
        "outputId": "04f0a679-84aa-48bd-ec74-d052bad2684e"
      },
      "execution_count": 9,
      "outputs": [
        {
          "output_type": "stream",
          "name": "stdout",
          "text": [
            "Total persons created: 3\n"
          ]
        }
      ]
    },
    {
      "cell_type": "markdown",
      "source": [
        "Q9. Write a class Fraction with attributes numerator and denominator. Override the str method to display the\n",
        "fraction as \"numerator/denominator\"."
      ],
      "metadata": {
        "id": "pEJvyOSrCXi6"
      }
    },
    {
      "cell_type": "code",
      "source": [
        "class Fraction:\n",
        "    def __init__(self, numerator, denominator):\n",
        "        self.numerator = numerator\n",
        "        self.denominator = denominator\n",
        "\n",
        "    def __str__(self):\n",
        "        return f\"{self.numerator}/{self.denominator}\"\n",
        "\n",
        "# Create a Fraction object\n",
        "fraction = Fraction(3, 5)\n",
        "\n",
        "# Print the fraction (using the overridden __str__ method)\n",
        "print(fraction)  # Output: 3/5"
      ],
      "metadata": {
        "colab": {
          "base_uri": "https://localhost:8080/"
        },
        "id": "KV2HiZ5DE7lv",
        "outputId": "e47c762d-7140-4cd4-a8fc-28a6fb212b21"
      },
      "execution_count": 10,
      "outputs": [
        {
          "output_type": "stream",
          "name": "stdout",
          "text": [
            "3/5\n"
          ]
        }
      ]
    },
    {
      "cell_type": "markdown",
      "source": [
        "Q10.  Demonstrate operator overloading by creating a class Vector and overriding the add method to add two\n",
        "vectors."
      ],
      "metadata": {
        "id": "rgyD9k7qCbJC"
      }
    },
    {
      "cell_type": "code",
      "source": [
        "class Vector:\n",
        "    def __init__(self, x, y):\n",
        "        self.x = x\n",
        "        self.y = y\n",
        "\n",
        "    def __add__(self, other):\n",
        "        return Vector(self.x + other.x, self.y + other.y)\n",
        "\n",
        "    def __str__(self):\n",
        "        return f\"({self.x}, {self.y})\"\n",
        "\n",
        "# Create two vectors\n",
        "v1 = Vector(2, 3)\n",
        "v2 = Vector(4, 5)\n",
        "\n",
        "# Add the vectors using the overloaded '+' operator\n",
        "v3 = v1 + v2\n",
        "\n",
        "# Print the result\n",
        "print(f\"v1 + v2 = {v3}\")  # Output: v1 + v2 = (6, 8)"
      ],
      "metadata": {
        "colab": {
          "base_uri": "https://localhost:8080/"
        },
        "id": "DXgwG71hFB76",
        "outputId": "7e2981df-2f4a-48ae-c600-a8c4fd6d2181"
      },
      "execution_count": 11,
      "outputs": [
        {
          "output_type": "stream",
          "name": "stdout",
          "text": [
            "v1 + v2 = (6, 8)\n"
          ]
        }
      ]
    },
    {
      "cell_type": "markdown",
      "source": [
        "Q11. Create a class Person with attributes name and age. Add a method greet() that prints \"Hello, my name is\n",
        "{name} and I am {age} years old.\""
      ],
      "metadata": {
        "id": "SZf-uFBBCfFG"
      }
    },
    {
      "cell_type": "code",
      "source": [
        "class Person:\n",
        "    def __init__(self, name, age):\n",
        "        self.name = name\n",
        "        self.age = age\n",
        "\n",
        "    def greet(self):\n",
        "        print(f\"Hello, my name is {self.name} and I am {self.age} years old.\")\n",
        "\n",
        "# Create an instance of the Person class\n",
        "person = Person(\"Alice\", 30)\n",
        "\n",
        "# Call the greet() method\n",
        "person.greet()  # Output: Hello, my name is Alice and I am 30 years old."
      ],
      "metadata": {
        "colab": {
          "base_uri": "https://localhost:8080/"
        },
        "id": "04j6dVOHHUrY",
        "outputId": "75237da2-d009-43e2-ccee-e31919ca7fda"
      },
      "execution_count": 13,
      "outputs": [
        {
          "output_type": "stream",
          "name": "stdout",
          "text": [
            "Hello, my name is Alice and I am 30 years old.\n"
          ]
        }
      ]
    },
    {
      "cell_type": "markdown",
      "source": [
        "Q12.  Implement a class Student with attributes name and grades. Create a method average_grade() to compute\n",
        "the average of the grades."
      ],
      "metadata": {
        "id": "o7lSuL-KCkDS"
      }
    },
    {
      "cell_type": "code",
      "source": [
        "class Student:\n",
        "    def __init__(self, name, grades):\n",
        "        self.name = name\n",
        "        self.grades = grades\n",
        "\n",
        "    def average_grade(self):\n",
        "        if self.grades:  # Check if grades list is not empty\n",
        "            return sum(self.grades) / len(self.grades)\n",
        "        else:\n",
        "            return 0  # Return 0 if there are no grades\n",
        "\n",
        "# Create a Student object and calculate the average grade\n",
        "student = Student(\"Bob\", [85, 90, 78, 92])\n",
        "average = student.average_grade()\n",
        "print(f\"{student.name}'s average grade: {average}\")  # Output: Bob's average grade: 86.25"
      ],
      "metadata": {
        "colab": {
          "base_uri": "https://localhost:8080/"
        },
        "id": "4pZ17aQ9FdCg",
        "outputId": "e4ede677-1ed7-44f1-861d-faf7fb21b060"
      },
      "execution_count": 14,
      "outputs": [
        {
          "output_type": "stream",
          "name": "stdout",
          "text": [
            "Bob's average grade: 86.25\n"
          ]
        }
      ]
    },
    {
      "cell_type": "markdown",
      "source": [
        "Q13.  Create a class Rectangle with methods set_dimensions() to set the dimensions and area() to calculate the\n",
        "area."
      ],
      "metadata": {
        "id": "ICe9jH9TCnBW"
      }
    },
    {
      "cell_type": "code",
      "source": [
        "class Rectangle:\n",
        "    def __init__(self, length=0, width=0):  # Initialize with default values\n",
        "        self.length = length\n",
        "        self.width = width\n",
        "\n",
        "    def set_dimensions(self, length, width):\n",
        "        self.length = length\n",
        "        self.width = width\n",
        "\n",
        "    def area(self):\n",
        "        return self.length * self.width\n",
        "\n",
        "# Create a Rectangle object\n",
        "rectangle = Rectangle()\n",
        "\n",
        "# Set dimensions and calculate area\n",
        "rectangle.set_dimensions(5, 4)\n",
        "area = rectangle.area()\n",
        "\n",
        "print(f\"Area of the rectangle: {area}\")  # Output: Area of the rectangle: 20"
      ],
      "metadata": {
        "colab": {
          "base_uri": "https://localhost:8080/"
        },
        "id": "WiIUnTnpFYtv",
        "outputId": "6c1bb189-d126-42ed-e15a-930019fcba72"
      },
      "execution_count": 15,
      "outputs": [
        {
          "output_type": "stream",
          "name": "stdout",
          "text": [
            "Area of the rectangle: 20\n"
          ]
        }
      ]
    },
    {
      "cell_type": "markdown",
      "source": [
        "Q14.  Create a class Employee with a method calculate_salary() that computes the salary based on hours worked\n",
        "and hourly rate. Create a derived class Manager that adds a bonus to the salary."
      ],
      "metadata": {
        "id": "K1F5w0gwCqxJ"
      }
    },
    {
      "cell_type": "code",
      "source": [
        "class Employee:\n",
        "    def __init__(self, name, hours_worked, hourly_rate):\n",
        "        self.name = name\n",
        "        self.hours_worked = hours_worked\n",
        "        self.hourly_rate = hourly_rate\n",
        "\n",
        "    def calculate_salary(self):\n",
        "        return self.hours_worked * self.hourly_rate\n",
        "\n",
        "class Manager(Employee):\n",
        "    def __init__(self, name, hours_worked, hourly_rate, bonus):\n",
        "        super().__init__(name, hours_worked, hourly_rate)\n",
        "        self.bonus = bonus\n",
        "\n",
        "    def calculate_salary(self):\n",
        "        base_salary = super().calculate_salary()\n",
        "        return base_salary + self.bonus\n",
        "\n",
        "# Create instances and calculate salaries\n",
        "employee = Employee(\"Alice\", 40, 15)\n",
        "manager = Manager(\"Bob\", 40, 20, 1000)\n",
        "\n",
        "employee_salary = employee.calculate_salary()\n",
        "manager_salary = manager.calculate_salary()\n",
        "\n",
        "print(f\"{employee.name}'s salary: {employee_salary}\")\n",
        "print(f\"{manager.name}'s salary: {manager_salary}\")"
      ],
      "metadata": {
        "colab": {
          "base_uri": "https://localhost:8080/"
        },
        "id": "Dh1VGwmbHtqh",
        "outputId": "688712ef-6b17-44cb-e6ce-259303d3cfff"
      },
      "execution_count": 19,
      "outputs": [
        {
          "output_type": "stream",
          "name": "stdout",
          "text": [
            "Alice's salary: 600\n",
            "Bob's salary: 1800\n"
          ]
        }
      ]
    },
    {
      "cell_type": "markdown",
      "source": [
        "Q15. Create a class Product with attributes name, price, and quantity. Implement a method total_price() that\n",
        "calculates the total price of the product."
      ],
      "metadata": {
        "id": "DlYUoNCwCvNM"
      }
    },
    {
      "cell_type": "code",
      "source": [
        "class Product:\n",
        "    def __init__(self, name, price, quantity):\n",
        "        self.name = name\n",
        "        self.price = price\n",
        "        self.quantity = quantity\n",
        "\n",
        "    def total_price(self):\n",
        "        return self.price * self.quantity\n",
        "\n",
        "# Create a Product object and calculate the total price\n",
        "product = Product(\"Laptop\", 1200, 2)\n",
        "total_price = product.total_price()\n",
        "\n",
        "print(f\"Total price of {product.name}: {total_price}\")  # Output: Total price of Laptop: 2400"
      ],
      "metadata": {
        "colab": {
          "base_uri": "https://localhost:8080/"
        },
        "id": "7qNfRJDzFs_Z",
        "outputId": "c10d67a5-82f0-4c65-d175-5fd9eb2e63d7"
      },
      "execution_count": 20,
      "outputs": [
        {
          "output_type": "stream",
          "name": "stdout",
          "text": [
            "Total price of Laptop: 2400\n"
          ]
        }
      ]
    },
    {
      "cell_type": "markdown",
      "source": [
        "Q16. Create a class Animal with an abstract method sound(). Create two derived classes Cow and Sheep that\n",
        "implement the sound() method."
      ],
      "metadata": {
        "id": "r4AyK26gCzlX"
      }
    },
    {
      "cell_type": "code",
      "source": [
        "from abc import ABC, abstractmethod\n",
        "\n",
        "class Animal(ABC):\n",
        "    @abstractmethod\n",
        "    def sound(self):\n",
        "        pass\n",
        "\n",
        "class Cow(Animal):\n",
        "    def sound(self):\n",
        "        print(\"Moo!\")\n",
        "\n",
        "class Sheep(Animal):\n",
        "    def sound(self):\n",
        "        print(\"Baa!\")\n",
        "\n",
        "# Create instances and call the sound() method\n",
        "cow = Cow()\n",
        "cow.sound()  # Output: Moo!\n",
        "\n",
        "sheep = Sheep()\n",
        "sheep.sound()  # Output: Baa!"
      ],
      "metadata": {
        "colab": {
          "base_uri": "https://localhost:8080/"
        },
        "id": "Kou2itZnF2f7",
        "outputId": "3af75af3-b72d-4c65-a199-931725511426"
      },
      "execution_count": 21,
      "outputs": [
        {
          "output_type": "stream",
          "name": "stdout",
          "text": [
            "Moo!\n",
            "Baa!\n"
          ]
        }
      ]
    },
    {
      "cell_type": "markdown",
      "source": [
        "Q17.  Create a class Book with attributes title, author, and year_published. Add a method get_book_info() that\n",
        "returns a formatted string with the book's details.\n",
        "\n",
        "\n"
      ],
      "metadata": {
        "id": "ZaypHLOCC4Ot"
      }
    },
    {
      "cell_type": "code",
      "source": [
        "class Book:\n",
        "    def __init__(self, title, author, year_published):\n",
        "        self.title = title\n",
        "        self.author = author\n",
        "        self.year_published = year_published\n",
        "\n",
        "    def get_book_info(self):\n",
        "        return f\"Title: {self.title}\\nAuthor: {self.author}\\nYear Published: {self.year_published}\"\n",
        "\n",
        "# Create a Book object and get its information\n",
        "book = Book(\"The Hitchhiker's Guide to the Galaxy\", \"Douglas Adams\", 1979)\n",
        "book_info = book.get_book_info()\n",
        "\n",
        "print(book_info)"
      ],
      "metadata": {
        "colab": {
          "base_uri": "https://localhost:8080/"
        },
        "id": "GrblSHKUGEc7",
        "outputId": "3a4dd0c8-dd35-4087-8289-c29c9f7b67ec"
      },
      "execution_count": 22,
      "outputs": [
        {
          "output_type": "stream",
          "name": "stdout",
          "text": [
            "Title: The Hitchhiker's Guide to the Galaxy\n",
            "Author: Douglas Adams\n",
            "Year Published: 1979\n"
          ]
        }
      ]
    },
    {
      "cell_type": "markdown",
      "source": [
        "Q18.Create a class House with attributes address and price. Create a derived class Mansion that adds an\n",
        "attribute number_of_rooms."
      ],
      "metadata": {
        "id": "QRk4rQtNDf7o"
      }
    },
    {
      "cell_type": "code",
      "execution_count": 23,
      "metadata": {
        "id": "kQw7eowMyw11",
        "colab": {
          "base_uri": "https://localhost:8080/"
        },
        "outputId": "58ca3331-e491-4101-e238-15b47c5cd598"
      },
      "outputs": [
        {
          "output_type": "stream",
          "name": "stdout",
          "text": [
            "House address: 123 Main St, price: 500000\n",
            "Mansion address: 456 Elm St, price: 2000000, rooms: 10\n"
          ]
        }
      ],
      "source": [
        "class House:\n",
        "    def __init__(self, address, price):\n",
        "        self.address = address\n",
        "        self.price = price\n",
        "\n",
        "class Mansion(House):\n",
        "    def __init__(self, address, price, number_of_rooms):\n",
        "        super().__init__(address, price)\n",
        "        self.number_of_rooms = number_of_rooms\n",
        "\n",
        "# Create instances of House and Mansion\n",
        "house = House(\"123 Main St\", 500000)\n",
        "mansion = Mansion(\"456 Elm St\", 2000000, 10)\n",
        "\n",
        "# Print attributes\n",
        "print(f\"House address: {house.address}, price: {house.price}\")\n",
        "print(f\"Mansion address: {mansion.address}, price: {mansion.price}, rooms: {mansion.number_of_rooms}\")"
      ]
    }
  ]
}